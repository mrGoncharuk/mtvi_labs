{
 "cells": [
  {
   "cell_type": "code",
   "execution_count": 1,
   "metadata": {},
   "outputs": [
    {
     "data": {
      "text/plain": [
       "{'person': 2, 'cat': 4, 'spider': 8}"
      ]
     },
     "execution_count": 1,
     "metadata": {},
     "output_type": "execute_result"
    }
   ],
   "source": [
    "# 1) Сортує словник за значеннями\n",
    "\n",
    "d = {'cat': 4, 'spider': 8, 'person': 2}\n",
    "sorted_d = {k: v for k, v in sorted(d.items(), key=lambda item: item[1])}\n",
    "sorted_d"
   ]
  },
  {
   "cell_type": "code",
   "execution_count": 2,
   "metadata": {},
   "outputs": [
    {
     "data": {
      "text/plain": [
       "{0: 10, 1: 20, 2: 30}"
      ]
     },
     "execution_count": 2,
     "metadata": {},
     "output_type": "execute_result"
    }
   ],
   "source": [
    "# 2) Додає ключ до словника\n",
    "\n",
    "d = {0: 10, 1: 20}\n",
    "d[2] = 30\n",
    "d"
   ]
  },
  {
   "cell_type": "code",
   "execution_count": 3,
   "metadata": {},
   "outputs": [
    {
     "data": {
      "text/plain": [
       "{1: 10, 2: 20, 3: 30, 4: 40, 5: 50, 6: 60}"
      ]
     },
     "execution_count": 3,
     "metadata": {},
     "output_type": "execute_result"
    }
   ],
   "source": [
    "# 3) Поєднає наступні словники та створює новий \n",
    "\n",
    "dic1={1:10, 2:20}\n",
    "dic2={3:30, 4:40}\n",
    "dic3={5:50,6:60}\n",
    "dic_merged = {**dic1, **dic2, **dic3}\n",
    "dic_merged"
   ]
  },
  {
   "cell_type": "code",
   "execution_count": 4,
   "metadata": {},
   "outputs": [
    {
     "name": "stdout",
     "output_type": "stream",
     "text": [
      "Enter key: cat\n",
      "Yes.\n"
     ]
    }
   ],
   "source": [
    "# 4) Перевіряє чи входить даний ключ до словника \n",
    "\n",
    "d = {'cat': 4, 'spider': 8, 'person': 2}\n",
    "check_key = input(\"Enter key: \")\n",
    "if (check_key in d.keys()):\n",
    "    print(\"Yes.\")\n",
    "else:\n",
    "    print(\"No.\")\n",
    "    \n",
    "# if (check_key in d):\n",
    "#     print(\"Yes.\")\n",
    "# else:\n",
    "#     print(\"No.\")    "
   ]
  },
  {
   "cell_type": "code",
   "execution_count": 5,
   "metadata": {},
   "outputs": [
    {
     "name": "stdout",
     "output_type": "stream",
     "text": [
      "cat   4\n",
      "spider   8\n",
      "person   2\n"
     ]
    }
   ],
   "source": [
    "# 5) Ітерується по словнику використовуючи for loops.\n",
    "\n",
    "d = {'cat': 4, 'spider': 8, 'person': 2}\n",
    "for k in d.keys():\n",
    "    print(k, \" \", d[k])\n",
    "    \n",
    "# for k in d:\n",
    "#     print(k, \" \", d[k])    "
   ]
  },
  {
   "cell_type": "code",
   "execution_count": 6,
   "metadata": {},
   "outputs": [
    {
     "name": "stdout",
     "output_type": "stream",
     "text": [
      "Enter n: 4\n"
     ]
    },
    {
     "data": {
      "text/plain": [
       "{1: 1, 2: 4, 3: 9, 4: 16}"
      ]
     },
     "execution_count": 6,
     "metadata": {},
     "output_type": "execute_result"
    }
   ],
   "source": [
    "# 6) Генерує та виводить словник, який складається с чисел від 1 до n в формі (x, x*x).\n",
    "\n",
    "n = int(input(\"Enter n: \"))\n",
    "d = { x:x**2 for x in range(1, n+1) }\n",
    "d"
   ]
  },
  {
   "cell_type": "code",
   "execution_count": 7,
   "metadata": {},
   "outputs": [
    {
     "data": {
      "text/plain": [
       "{1: 1,\n",
       " 2: 4,\n",
       " 3: 9,\n",
       " 4: 16,\n",
       " 5: 25,\n",
       " 6: 36,\n",
       " 7: 49,\n",
       " 8: 64,\n",
       " 9: 81,\n",
       " 10: 100,\n",
       " 11: 121,\n",
       " 12: 144,\n",
       " 13: 169,\n",
       " 14: 196,\n",
       " 15: 225}"
      ]
     },
     "execution_count": 7,
     "metadata": {},
     "output_type": "execute_result"
    }
   ],
   "source": [
    "# 7) Генерує словник у якому ключі це числа від 1 до 15, а значення квадрати ключів\n",
    "\n",
    "n = 15\n",
    "d = { x:x**2 for x in range(1, n+1) }\n",
    "d"
   ]
  },
  {
   "cell_type": "code",
   "execution_count": 8,
   "metadata": {},
   "outputs": [
    {
     "name": "stdout",
     "output_type": "stream",
     "text": [
      "<class 'set'> :  {1, 2, 3, 4, 5}\n"
     ]
    }
   ],
   "source": [
    "# 8) Яка створює будь який set. \n",
    "\n",
    "any_set = {1, 2, 3, 4, 5}\n",
    "print(type(any_set), \": \", any_set)\n"
   ]
  },
  {
   "cell_type": "code",
   "execution_count": 9,
   "metadata": {},
   "outputs": [
    {
     "name": "stdout",
     "output_type": "stream",
     "text": [
      "1\n",
      "4\n",
      "9\n",
      "16\n",
      "25\n"
     ]
    }
   ],
   "source": [
    "# 9) Яка ітерується крізь sets. \n",
    "\n",
    "any_set = {1, 2, 3, 4, 5}\n",
    "for i in any_set:\n",
    "    print(i**2)"
   ]
  },
  {
   "cell_type": "code",
   "execution_count": 10,
   "metadata": {},
   "outputs": [
    {
     "data": {
      "text/plain": [
       "{1, 2, 3, 4, 5, 228}"
      ]
     },
     "execution_count": 10,
     "metadata": {},
     "output_type": "execute_result"
    }
   ],
   "source": [
    "# 10) Додає значення до set.\n",
    "\n",
    "any_set = {1, 2, 3, 4, 5}\n",
    "any_set.add(228)\n",
    "any_set"
   ]
  },
  {
   "cell_type": "code",
   "execution_count": 11,
   "metadata": {},
   "outputs": [
    {
     "data": {
      "text/plain": [
       "{1, 2, 3, 4}"
      ]
     },
     "execution_count": 11,
     "metadata": {},
     "output_type": "execute_result"
    }
   ],
   "source": [
    "# 11) Видаляє елемент з set \n",
    "\n",
    "any_set = {1, 2, 3, 4, 5}\n",
    "any_set.remove(5)\n",
    "any_set"
   ]
  },
  {
   "cell_type": "code",
   "execution_count": 12,
   "metadata": {},
   "outputs": [
    {
     "data": {
      "text/plain": [
       "{1, 2, 3, 4, 5}"
      ]
     },
     "execution_count": 12,
     "metadata": {},
     "output_type": "execute_result"
    }
   ],
   "source": [
    "# 12) Видаляє елемент якщо він є в set. \n",
    "\n",
    "any_set = {1, 2, 3, 4, 5}\n",
    "any_set.discard(16)\n",
    "any_set"
   ]
  },
  {
   "cell_type": "code",
   "execution_count": 14,
   "metadata": {},
   "outputs": [
    {
     "data": {
      "text/plain": [
       "{3, 5}"
      ]
     },
     "execution_count": 14,
     "metadata": {},
     "output_type": "execute_result"
    }
   ],
   "source": [
    "# 13) Створює об’єднання sets (intersection)\n",
    "\n",
    "set1 = {1, 2, 3, 5}\n",
    "set2 = {4, 5, 11, 22222, 3}\n",
    "set_intersection = set1 & set2\n",
    "set_intersection"
   ]
  },
  {
   "cell_type": "code",
   "execution_count": 15,
   "metadata": {},
   "outputs": [
    {
     "data": {
      "text/plain": [
       "28"
      ]
     },
     "execution_count": 15,
     "metadata": {},
     "output_type": "execute_result"
    }
   ],
   "source": [
    "# 14) Яка знаходить суму всіх елементів списку. \n",
    "\n",
    "lst = [1, 2, 3, 4, 5, 6, 7]\n",
    "sum(lst)\n"
   ]
  },
  {
   "cell_type": "code",
   "execution_count": 16,
   "metadata": {},
   "outputs": [
    {
     "name": "stdout",
     "output_type": "stream",
     "text": [
      "Enter multiplyer: 3\n"
     ]
    },
    {
     "data": {
      "text/plain": [
       "[24, 6, 9, -3, 21]"
      ]
     },
     "execution_count": 16,
     "metadata": {},
     "output_type": "execute_result"
    }
   ],
   "source": [
    "# 15) Яка помножує всі елементи списку\n",
    "\n",
    "mult = int(input(\"Enter multiplyer: \"))\n",
    "lst = [8, 2, 3, -1, 7]\n",
    "lst  = [i* mult for i in lst]\n",
    "lst"
   ]
  },
  {
   "cell_type": "code",
   "execution_count": 17,
   "metadata": {},
   "outputs": [
    {
     "name": "stdout",
     "output_type": "stream",
     "text": [
      "min: -1 max: 8\n"
     ]
    }
   ],
   "source": [
    "# 16) Яка виводить найбільше та найменше значення у списку. \n",
    "\n",
    "lst = [8, 2, 3, -1, 7]\n",
    "print(\"min:\", min(lst), \"max:\", max(lst))"
   ]
  },
  {
   "cell_type": "code",
   "execution_count": 18,
   "metadata": {},
   "outputs": [
    {
     "data": {
      "text/plain": [
       "[(2, 1), (1, 2), (2, 3), (4, 4), (2, 5)]"
      ]
     },
     "execution_count": 18,
     "metadata": {},
     "output_type": "execute_result"
    }
   ],
   "source": [
    "# 17) Напишіть програму Python, щоб отримати список, відсортований у порядку\n",
    "# зростання за останнім елементом у кожному кортежі із заданого списку не порожніх\n",
    "lst =  [(2, 5), (1, 2), (4, 4), (2, 3), (2, 1)]\n",
    "sorted_by_second = sorted(lst, key=lambda tup: tup[1])\n",
    "sorted_by_second"
   ]
  },
  {
   "cell_type": "code",
   "execution_count": 19,
   "metadata": {},
   "outputs": [
    {
     "data": {
      "text/plain": [
       "[1, 2, 3, 5, 7, 8, -1]"
      ]
     },
     "execution_count": 19,
     "metadata": {},
     "output_type": "execute_result"
    }
   ],
   "source": [
    "# 18) Яка видаляє елементи які повторюються\n",
    "\n",
    "lst = [8, 2, 3, -1, 7, 2, 5, 1]\n",
    "lst_clear = list(set(lst))\n",
    "lst_clear"
   ]
  },
  {
   "cell_type": "code",
   "execution_count": 20,
   "metadata": {},
   "outputs": [
    {
     "data": {
      "text/plain": [
       "['Green', 'White', 'Black']"
      ]
     },
     "execution_count": 20,
     "metadata": {},
     "output_type": "execute_result"
    }
   ],
   "source": [
    "# 19) Яка друкує лист після видалення 0th, 4th та 5th елементів.\n",
    "\n",
    "lst = ['Red', 'Green', 'White', 'Black', 'Pink', 'Yellow']\n",
    "\n",
    "\n",
    "lst.pop(5)\n",
    "lst.pop(4)\n",
    "lst.pop(0)\n",
    "lst"
   ]
  },
  {
   "cell_type": "code",
   "execution_count": 21,
   "metadata": {},
   "outputs": [
    {
     "data": {
      "text/plain": [
       "-336"
      ]
     },
     "execution_count": 21,
     "metadata": {},
     "output_type": "execute_result"
    }
   ],
   "source": [
    "# 20) Програмка яка помножує всі значення в списку\n",
    "\n",
    "lst = [8, 2, 3, -1, 7]\n",
    "res = 1\n",
    "for i in lst:\n",
    "    res *= i\n",
    "res"
   ]
  },
  {
   "cell_type": "code",
   "execution_count": 22,
   "metadata": {},
   "outputs": [
    {
     "name": "stdout",
     "output_type": "stream",
     "text": [
      "Enter number: 5\n",
      "120\n"
     ]
    }
   ],
   "source": [
    "# 21) Розраховує факторіал числа.\n",
    "\n",
    "def fac(n):\n",
    "    if n == 0:\n",
    "        return 1\n",
    "    return fac(n-1) * n\n",
    "\n",
    "numb = int(input(\"Enter number: \"))\n",
    "print(fac(numb))"
   ]
  },
  {
   "cell_type": "code",
   "execution_count": 23,
   "metadata": {},
   "outputs": [
    {
     "name": "stdout",
     "output_type": "stream",
     "text": [
      "No. of Upper case characters:  3\n",
      "No. of Lower case characters:  12\n"
     ]
    }
   ],
   "source": [
    "# 22) Приймає строку та підраховує кількість upper case letters and lower case letters\n",
    "\n",
    "text = 'The quick Brow Fox'\n",
    "sum(1 for c in text if c.islower())\n",
    "print(\"No. of Upper case characters: \", sum(1 for c in text if c.isupper()))\n",
    "print(\"No. of Lower case characters: \", sum(1 for c in text if c.islower()))"
   ]
  },
  {
   "cell_type": "code",
   "execution_count": 24,
   "metadata": {},
   "outputs": [
    {
     "name": "stdout",
     "output_type": "stream",
     "text": [
      "Enter number: 5\n",
      "\n",
      "*\n",
      "**\n",
      "***\n",
      "****\n",
      "*****\n",
      "****\n",
      "***\n",
      "**\n",
      "*\n"
     ]
    }
   ],
   "source": [
    "# 23) Друкує наступний патерн, використовуючи цикли\n",
    "# *\n",
    "# * *\n",
    "# * * *\n",
    "# * * * *\n",
    "# * * * * *\n",
    "# * * * *\n",
    "# * * *\n",
    "# * *\n",
    "# *\n",
    "\n",
    "\n",
    "n = int(input(\"Enter number: \"))\n",
    "\n",
    "def print_pattern(n):\n",
    "    if (n <= 0):\n",
    "        return\n",
    "    for i in range(n+1):\n",
    "        print(\"*\"*i)\n",
    "    n -= 1 \n",
    "    while n != 0:\n",
    "        print(\"*\"*n)\n",
    "        n -= 1\n",
    "        \n",
    "print_pattern(n)"
   ]
  },
  {
   "cell_type": "code",
   "execution_count": null,
   "metadata": {},
   "outputs": [],
   "source": []
  }
 ],
 "metadata": {
  "kernelspec": {
   "display_name": "Python 3",
   "language": "python",
   "name": "python3"
  },
  "language_info": {
   "codemirror_mode": {
    "name": "ipython",
    "version": 3
   },
   "file_extension": ".py",
   "mimetype": "text/x-python",
   "name": "python",
   "nbconvert_exporter": "python",
   "pygments_lexer": "ipython3",
   "version": "3.6.9"
  }
 },
 "nbformat": 4,
 "nbformat_minor": 4
}
